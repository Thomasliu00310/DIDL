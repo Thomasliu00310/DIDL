{
  "nbformat": 4,
  "nbformat_minor": 0,
  "metadata": {
    "kernelspec": {
      "display_name": "Python 3",
      "name": "python3"
    },
    "language_info": {
      "name": "python"
    },
    "colab": {
      "name": "07自动求导autograd.ipynb",
      "provenance": [],
      "collapsed_sections": [],
      "include_colab_link": true
    }
  },
  "cells": [
    {
      "cell_type": "markdown",
      "metadata": {
        "id": "view-in-github",
        "colab_type": "text"
      },
      "source": [
        "<a href=\"https://colab.research.google.com/github/Thomasliu00310/DIDL/blob/main/07%E8%87%AA%E5%8A%A8%E6%B1%82%E5%AF%BCautograd.ipynb\" target=\"_parent\"><img src=\"https://colab.research.google.com/assets/colab-badge.svg\" alt=\"Open In Colab\"/></a>"
      ]
    },
    {
      "cell_type": "markdown",
      "metadata": {
        "origin_pos": 0,
        "id": "a2iqovnTLZ3d"
      },
      "source": [
        "# 自动求导\n",
        ":label:`sec_autograd`\n",
        "\n",
        "正如我们在 :numref:`sec_calculus`中所说的那样，求导是几乎所有深度学习优化算法的关键步骤。虽然求导的计算很简单，只需要一些基本的微积分，但对于复杂的模型，手工进行更新是一件很痛苦的事情（而且经常容易出错）。\n",
        "\n",
        "深度学习框架通过自动计算导数，即*自动求导*（automatic differentiation），来加快这项工作。实际中，根据我们设计的模型，系统会构建一个*计算图*（computational graph），来跟踪计算是哪些数据通过哪些操作组合起来产生输出。自动求导使系统能够随后反向传播梯度。\n",
        "这里，*反向传播*（backpropagate）只是意味着跟踪整个计算图，填充关于每个参数的偏导数。\n",
        "\n",
        "\n",
        "## 一个简单的例子\n",
        "\n",
        "作为一个演示例子，(**假设我们想对函数$y=2\\mathbf{x}^{\\top}\\mathbf{x}$关于列向量$\\mathbf{x}$求导**)。首先，我们创建变量`x`并为其分配一个初始值。\n"
      ]
    },
    {
      "cell_type": "code",
      "metadata": {
        "origin_pos": 2,
        "tab": [
          "pytorch"
        ],
        "id": "ZB9rqgJVLZ3f",
        "colab": {
          "base_uri": "https://localhost:8080/"
        },
        "outputId": "3cebc21d-d0af-4ae8-a861-260b5465e1a2"
      },
      "source": [
        "import torch\n",
        "\n",
        "x = torch.arange(4.0)\n",
        "x"
      ],
      "execution_count": null,
      "outputs": [
        {
          "output_type": "execute_result",
          "data": {
            "text/plain": [
              "tensor([0., 1., 2., 3.])"
            ]
          },
          "metadata": {},
          "execution_count": 1
        }
      ]
    },
    {
      "cell_type": "markdown",
      "metadata": {
        "origin_pos": 4,
        "id": "9evk2AVlLZ3g"
      },
      "source": [
        "[**在我们计算$y$关于$\\mathbf{x}$的梯度之前，我们需要一个地方来存储梯度。**]\n",
        "重要的是，我们不会在每次对一个参数求导时都分配新的内存。因为我们经常会成千上万次地更新相同的参数，每次都分配新的内存可能很快就会将内存耗尽。注意，标量函数关于向量$\\mathbf{x}$的梯度是向量，并且与$\\mathbf{x}$具有相同的形状。\n"
      ]
    },
    {
      "cell_type": "code",
      "metadata": {
        "origin_pos": 6,
        "tab": [
          "pytorch"
        ],
        "id": "PeFmnnYcLZ3g"
      },
      "source": [
        "x.requires_grad_(True)  # 等价于 `x = torch.arange(4.0, requires_grad=True)`\n",
        "x.grad  # 储存梯度值用的,默认是None"
      ],
      "execution_count": null,
      "outputs": []
    },
    {
      "cell_type": "markdown",
      "metadata": {
        "origin_pos": 8,
        "id": "s1Q4FmaELZ3h"
      },
      "source": [
        "(**现在让我们计算$y$。**)\n"
      ]
    },
    {
      "cell_type": "code",
      "metadata": {
        "origin_pos": 10,
        "tab": [
          "pytorch"
        ],
        "id": "DPLeiwM7LZ3h",
        "colab": {
          "base_uri": "https://localhost:8080/"
        },
        "outputId": "c811ae8f-bc30-46c6-b0b9-d28c6b565191"
      },
      "source": [
        "y = 2 * torch.dot(x, x)  #grad_fn=<MulBackward0> 意思就是计算图已经做隐式构造了,用的反向传播法算\n",
        "y "
      ],
      "execution_count": null,
      "outputs": [
        {
          "output_type": "execute_result",
          "data": {
            "text/plain": [
              "tensor(28., grad_fn=<MulBackward0>)"
            ]
          },
          "metadata": {},
          "execution_count": 3
        }
      ]
    },
    {
      "cell_type": "markdown",
      "metadata": {
        "origin_pos": 12,
        "id": "JYws1ai7LZ3h"
      },
      "source": [
        "`x`是一个长度为4的向量，计算`x`和`x`的内积，得到了我们赋值给`y`的标量输出。接下来，我们可以[**通过调用反向传播函数来自动计算`y`关于`x`每个分量的梯度**]，并打印这些梯度。\n"
      ]
    },
    {
      "cell_type": "code",
      "metadata": {
        "origin_pos": 14,
        "tab": [
          "pytorch"
        ],
        "id": "IQpR8Li2LZ3i",
        "colab": {
          "base_uri": "https://localhost:8080/"
        },
        "outputId": "7cfcedde-2a34-415f-c18e-3cb8090f8c6d"
      },
      "source": [
        "y.backward() #调用反向传播方法(因为求导很消耗资源,所以语言不会自动求,要你调用方法),计算y关于x每一个分量的梯度\n",
        "x.grad  #访问求导结果"
      ],
      "execution_count": null,
      "outputs": [
        {
          "output_type": "execute_result",
          "data": {
            "text/plain": [
              "tensor([ 0.,  4.,  8., 12.])"
            ]
          },
          "metadata": {},
          "execution_count": 4
        }
      ]
    },
    {
      "cell_type": "markdown",
      "metadata": {
        "origin_pos": 16,
        "id": "hH35h4-HLZ3i"
      },
      "source": [
        "函数$y=2\\mathbf{x}^{\\top}\\mathbf{x}$关于$\\mathbf{x}$的梯度应为$4\\mathbf{x}$。让我们快速验证我们想要的梯度是否正确计算。\n"
      ]
    },
    {
      "cell_type": "code",
      "metadata": {
        "origin_pos": 18,
        "tab": [
          "pytorch"
        ],
        "id": "ayuIzBLtLZ3i",
        "colab": {
          "base_uri": "https://localhost:8080/"
        },
        "outputId": "94bb354a-3863-4de3-b306-d76c858a95e5"
      },
      "source": [
        "x.grad == 4 * x"
      ],
      "execution_count": null,
      "outputs": [
        {
          "output_type": "execute_result",
          "data": {
            "text/plain": [
              "tensor([True, True, True, True])"
            ]
          },
          "metadata": {},
          "execution_count": 5
        }
      ]
    },
    {
      "cell_type": "markdown",
      "metadata": {
        "origin_pos": 20,
        "id": "CvfN2KsNLZ3j"
      },
      "source": [
        "[**现在让我们计算`x`的另一个函数。**]\n"
      ]
    },
    {
      "cell_type": "code",
      "metadata": {
        "origin_pos": 22,
        "tab": [
          "pytorch"
        ],
        "id": "NqM1vF30LZ3j",
        "colab": {
          "base_uri": "https://localhost:8080/"
        },
        "outputId": "c9d70943-e9ad-4953-f58f-7a795d390bca"
      },
      "source": [
        "# 在默认情况下，PyTorch会累积梯度(因为算RNN时候会更容易,batch之间loss积累,模型化时候不同的模型之间要共享loss,默认积累挺好)，我们需要清除之前的值\n",
        "x.grad.zero_()  #下划线表示重写内容\n",
        "y = x.sum()\n",
        "y.backward()\n",
        "x.grad"
      ],
      "execution_count": null,
      "outputs": [
        {
          "output_type": "execute_result",
          "data": {
            "text/plain": [
              "tensor([1., 1., 1., 1.])"
            ]
          },
          "metadata": {},
          "execution_count": 11
        }
      ]
    },
    {
      "cell_type": "markdown",
      "metadata": {
        "origin_pos": 24,
        "id": "lQqZY93xLZ3j"
      },
      "source": [
        "## 非标量求梯度,深度学习的处理\n",
        "\n",
        "当`y`不是标量时，向量`y`关于向量`x`的导数的最自然解释是一个矩阵。对于高阶和高维的`y`和`x`，求导的结果可以是一个高阶张量。\n",
        "\n",
        "然而，虽然这些更奇特的对象确实出现在高级机器学习中（包括[**深度学习中**]），但当我们调用向量的反向计算时，我们通常会试图计算一批训练样本中每个组成部分的损失函数的导数。这里(**，我们的目的不是计算微分矩阵，而是批量中每个样本单独计算的偏导数之和。**)\n"
      ]
    },
    {
      "cell_type": "code",
      "metadata": {
        "origin_pos": 26,
        "tab": [
          "pytorch"
        ],
        "id": "duhoRSc4LZ3j",
        "colab": {
          "base_uri": "https://localhost:8080/"
        },
        "outputId": "3c005d40-eb2e-459e-dfb9-3dabe9114f87"
      },
      "source": [
        "# 对非标量调用`backward`需要传入一个`gradient`参数，该参数指定微分函数关于`self`的梯度。在我们的例子中，我们只想求偏导数的和，所以传递一个1的梯度是合适的\n",
        "x.grad.zero_()\n",
        "y = x * x # 深度学习大部分情况是对标量求导,因为求导是为了求loss,如果loss是向量,那套娃以后loss多维tensor算不出来了\n",
        "# 等价于y.backward(torch.ones(len(x)))\n",
        "y.sum().backward()  #深度学习很少对向量求导(结果矩阵),所以这里对向量y做求和,做成标量,再进行求导(结果向量)\n",
        "           #后续会讲在很么情况下会做求和计算\n",
        "x.grad"
      ],
      "execution_count": null,
      "outputs": [
        {
          "output_type": "execute_result",
          "data": {
            "text/plain": [
              "tensor([0., 2., 4., 6.])"
            ]
          },
          "metadata": {},
          "execution_count": 6
        }
      ]
    },
    {
      "cell_type": "markdown",
      "metadata": {
        "origin_pos": 28,
        "id": "TmnVvK6JLZ3k"
      },
      "source": [
        "## 分离计算\n",
        "\n",
        "有时，我们希望[**将某些计算移动到记录的计算图之外**]。\n",
        "例如，假设`y`是作为`x`的函数计算的，而`z`则是作为`y`和`x`的函数计算的。\n",
        "现在，想象一下，我们想计算`z`关于`x`的梯度，但由于某种原因，我们希望将`y`视为一个常数，并且只考虑到`x`在`y`被计算后发挥的作用。\n",
        "\n",
        "在这里，我们可以分离`y`来返回一个新变量`u`，该变量与`y`具有相同的值，但丢弃计算图中如何计算`y`的任何信息。换句话说，梯度不会向后流经`u`到`x`。因此，下面的反向传播函数计算`z=u*x`关于`x`的偏导数，同时将`u`作为常数处理，而不是`z=x*x*x`关于`x`的偏导数。\n"
      ]
    },
    {
      "cell_type": "code",
      "metadata": {
        "origin_pos": 30,
        "tab": [
          "pytorch"
        ],
        "id": "kzvFscqrLZ3k",
        "colab": {
          "base_uri": "https://localhost:8080/"
        },
        "outputId": "99a9b3ab-0c1c-47d0-d3ff-acd83729627d"
      },
      "source": [
        "x.grad.zero_()\n",
        "y = x * x\n",
        "u = y.detach() #做分离,用于计算过程中固定一部分参数\n",
        "z = u * x  #这样z对x求导时候,u是对于x的常数\n",
        "\n",
        "z.sum().backward()\n",
        "x.grad == u"
      ],
      "execution_count": null,
      "outputs": [
        {
          "output_type": "execute_result",
          "data": {
            "text/plain": [
              "tensor([True, True, True, True])"
            ]
          },
          "metadata": {},
          "execution_count": 12
        }
      ]
    },
    {
      "cell_type": "markdown",
      "metadata": {
        "origin_pos": 32,
        "id": "Yxu5TshdLZ3k"
      },
      "source": [
        "由于记录了`y`的计算结果，我们可以随后在`y`上调用反向传播，得到`y=x*x`关于的`x`的导数，这里是`2*x`。\n"
      ]
    },
    {
      "cell_type": "code",
      "metadata": {
        "origin_pos": 34,
        "tab": [
          "pytorch"
        ],
        "id": "Nrf4EV0aLZ3k",
        "colab": {
          "base_uri": "https://localhost:8080/"
        },
        "outputId": "313952ee-1dbc-4b08-8f9a-82fe81522c9c"
      },
      "source": [
        "x.grad.zero_()\n",
        "y.sum().backward() #意思是,detach后,y还是x的函数,但u不是x的函数\n",
        "x.grad == 2 * x"
      ],
      "execution_count": null,
      "outputs": [
        {
          "output_type": "execute_result",
          "data": {
            "text/plain": [
              "tensor([True, True, True, True])"
            ]
          },
          "metadata": {},
          "execution_count": 13
        }
      ]
    },
    {
      "cell_type": "markdown",
      "metadata": {
        "origin_pos": 36,
        "id": "ckZ-48a9LZ3l"
      },
      "source": [
        "## Python控制流的梯度计算\n",
        "\n",
        "使用自动求导的一个好处是，[**即使构建函数的计算图需要通过Python控制流（例如，条件、循环或任意函数调用），我们仍然可以计算得到的变量的梯度**]。在下面的代码中，`while`循环的迭代次数和`if`语句的结果都取决于输入`a`的值。\n"
      ]
    },
    {
      "cell_type": "code",
      "metadata": {
        "origin_pos": 38,
        "tab": [
          "pytorch"
        ],
        "id": "3Y_oRRyYLZ3l"
      },
      "source": [
        "#意思这个函数是复杂流,也能求梯度,pytorch会自动把控制流和计算图合并处理,也就是说,控制流友好\n",
        "def f(a):\n",
        "    b = a * 2\n",
        "    while b.norm() < 1000:\n",
        "        b = b * 2\n",
        "    if b.sum() > 0:\n",
        "        c = b\n",
        "    else:\n",
        "        c = 100 * b\n",
        "    return c"
      ],
      "execution_count": null,
      "outputs": []
    },
    {
      "cell_type": "markdown",
      "metadata": {
        "origin_pos": 40,
        "id": "x_OR9U6VLZ3l"
      },
      "source": [
        "让我们计算梯度。\n"
      ]
    },
    {
      "cell_type": "code",
      "metadata": {
        "origin_pos": 42,
        "tab": [
          "pytorch"
        ],
        "id": "9nBa3liLLZ3l"
      },
      "source": [
        "a = torch.randn(size=(), requires_grad=True)\n",
        "d = f(a)\n",
        "d.backward()"
      ],
      "execution_count": null,
      "outputs": []
    },
    {
      "cell_type": "markdown",
      "metadata": {
        "origin_pos": 44,
        "id": "EbwXFqv9LZ3m"
      },
      "source": [
        "我们现在可以分析上面定义的`f`函数。请注意，它在其输入`a`中是分段线性的。换言之，对于任何`a`，存在某个常量标量`k`，使得`f(a)=k*a`，其中`k`的值取决于输入`a`。因此，`d/a`允许我们验证梯度是否正确。\n"
      ]
    },
    {
      "cell_type": "code",
      "metadata": {
        "origin_pos": 46,
        "tab": [
          "pytorch"
        ],
        "id": "tkI7ADgJLZ3m",
        "colab": {
          "base_uri": "https://localhost:8080/"
        },
        "outputId": "02bc9c46-4980-4442-c6a5-b1b725f88b84"
      },
      "source": [
        "a.grad == d / a"
      ],
      "execution_count": null,
      "outputs": [
        {
          "output_type": "execute_result",
          "data": {
            "text/plain": [
              "tensor(True)"
            ]
          },
          "metadata": {},
          "execution_count": 17
        }
      ]
    },
    {
      "cell_type": "markdown",
      "metadata": {
        "origin_pos": 48,
        "id": "yRwNBzm8LZ3m"
      },
      "source": [
        "## 小结\n",
        "\n",
        "* 深度学习框架可以自动计算导数。为了使用它，我们首先将梯度附加到想要对其计算偏导数的变量上。然后我们记录目标值的计算，执行它的反向传播函数，并访问得到的梯度。\n",
        "\n",
        "## 练习\n",
        "\n",
        "1. 为什么计算二阶导数比一阶导数的开销要更大？\n",
        "1. 在运行反向传播函数之后，立即再次运行它，看看会发生什么。\n",
        "1. 在控制流的例子中，我们计算`d`关于`a`的导数，如果我们将变量`a`更改为随机向量或矩阵，会发生什么？此时，计算结果`f(a)`不再是标量。结果会发生什么？我们如何分析这个结果？\n",
        "1. 重新设计一个求控制流梯度的例子。运行并分析结果。\n",
        "1. 使$f(x)=\\sin(x)$，绘制$f(x)$和$\\frac{df(x)}{dx}$的图像，其中后者不使用$f'(x)=\\cos(x)$。\n"
      ]
    },
    {
      "cell_type": "markdown",
      "metadata": {
        "origin_pos": 50,
        "tab": [
          "pytorch"
        ],
        "id": "0-RKb9b-LZ3n"
      },
      "source": [
        "[Discussions](https://discuss.d2l.ai/t/1759)\n"
      ]
    }
  ]
}